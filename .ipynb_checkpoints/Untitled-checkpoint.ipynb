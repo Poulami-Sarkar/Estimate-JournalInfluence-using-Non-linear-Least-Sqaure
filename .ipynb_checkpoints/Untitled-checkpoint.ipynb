{
 "cells": [
  {
   "cell_type": "code",
   "execution_count": 2,
   "metadata": {
    "collapsed": true
   },
   "outputs": [],
   "source": [
    "import pandas as pd\n",
    "import datetime as datetime\n",
    "import matplotlib.pyplot as plt\n",
    "import matplotlib as plot\n",
    "import re"
   ]
  },
  {
   "cell_type": "code",
   "execution_count": 61,
   "metadata": {
    "scrolled": true
   },
   "outputs": [
    {
     "name": "stdout",
     "output_type": "stream",
     "text": [
      "       year   cites\n",
      "0   2004.00    97.0\n",
      "1   2004.25    97.0\n",
      "2   2004.50  1843.0\n",
      "3   2004.75  5790.0\n",
      "4   2005.00   497.0\n",
      "5   2005.25  1178.0\n",
      "6   2005.50   476.0\n",
      "7   2005.75   353.0\n",
      "8   2006.00   572.0\n",
      "9   2006.25  2788.0\n",
      "10  2006.50    65.0\n",
      "11  2006.75    90.0\n",
      "12  2007.00    32.0\n",
      "13  2007.25    17.0\n",
      "14  2007.50   664.0\n",
      "15  2007.75   945.0\n",
      "16  2008.00   105.0\n",
      "17  2008.25     8.0\n",
      "18  2008.50  2039.0\n",
      "19  2008.75    26.0\n",
      "20  2009.00    43.0\n",
      "21  2009.25    72.0\n",
      "22  2009.50    68.0\n",
      "23  2009.75  3935.0\n",
      "24  2010.00   330.0\n",
      "25  2010.25    66.0\n",
      "26  2010.50  2563.0\n",
      "27  2010.75    62.0\n",
      "28  2011.00   208.0\n",
      "29  2011.25   136.0\n",
      "30  2011.50    53.0\n",
      "31  2011.75    18.0\n",
      "32  2012.00    19.0\n",
      "33  2012.25    97.0\n",
      "34  2012.50    28.0\n",
      "35  2012.75    63.0\n",
      "36  2013.00   113.0\n",
      "37  2013.25    20.0\n",
      "38  2013.50    16.0\n",
      "39  2013.75   494.0\n"
     ]
    }
   ],
   "source": [
    "def get_editorInf(r1,r2):\n",
    "    data = pd.read_csv('/home/poulami/Documents/Github/JournalInfluence/dataFiles/EditorInfluence.csv')\n",
    "    data = data.fillna(0)\n",
    "    data = data.sort_values(by='year')\n",
    "    quart_inf = pd.DataFrame(columns=['year','cites'])\n",
    "    #df['year'] = datetime.datetime.strptime( df['year'].astype('int').to_string() ,'%Y')\n",
    "    df = data.dropna()\n",
    "    index=0\n",
    "    df = df[df['year'].between(r1, r2)]\n",
    "    for i in range(r1, r2):\n",
    "        d = df[df['year']==i]\n",
    "        shape =d.shape[0]\n",
    "        quart_inf.loc[index] = [i, d.iloc[0:int(shape/4):,]['citedby'].sum()]\n",
    "        quart_inf.loc[index+1] = [i+0.25, d.iloc[int(shape/4):int(shape*2/4):,]['citedby'].sum()]\n",
    "        quart_inf.loc[index+2] = [i+0.5, d.iloc[int(2*shape/4):int(shape*3/4):,]['citedby'].sum()]\n",
    "        quart_inf.loc[index+3] = [i+0.75, d.iloc[int(3*shape/4):int(shape):,]['citedby'].sum()]\n",
    "        index = index+4\n",
    "    return quart_inf\n",
    "quart_inf = get_editorInf(2004,2014)\n",
    "print(quart_inf)\n",
    "\n",
    "#print(int(shape/4))"
   ]
  },
  {
   "cell_type": "code",
   "execution_count": 14,
   "metadata": {},
   "outputs": [
    {
     "data": {
      "image/png": "[encoded data removed]",
      "text/plain": [
       "<matplotlib.figure.Figure at 0x7fb59d713a90>"
      ]
     },
     "metadata": {},
     "output_type": "display_data"
    }
   ],
   "source": [
    "plt.plot(quart_inf['year'],quart_inf['cites'],'o')\n",
    "plt.savefig('/home/poulami/Documents/Github/JournalInfluence/visualizations/editorinfluence.png')\n",
    "plt.show()"
   ]
  },
  {
   "cell_type": "code",
   "execution_count": 17,
   "metadata": {},
   "outputs": [],
   "source": [
    "ji = pd.read_csv('/home/poulami/Documents/Github/JournalInfluence/dataFiles/journalcites.csv')"
   ]
  },
  {
   "cell_type": "code",
   "execution_count": 18,
   "metadata": {
    "scrolled": true
   },
   "outputs": [
    {
     "name": "stdout",
     "output_type": "stream",
     "text": [
      "         citations  readers\n",
      "date                       \n",
      "01-2016         13       39\n",
      "01-2017          8       85\n",
      "02-2013         56      181\n",
      "03-2015         86       91\n",
      "04-2015        113      287\n",
      "04-2016         50      118\n",
      "04-2017          6       62\n",
      "06-2015         64      219\n",
      "07-2014         33       80\n",
      "07-2016         38      196\n",
      "07-2017          2      130\n",
      "08-2013         81      195\n",
      "09-2015        155      272\n",
      "10-2014         11       86\n",
      "10-2016         30      155\n",
      "10-2017          1        6\n",
      "11-2015        111      215\n",
      "12-2013         87      161\n",
      "12-2014         70       86\n"
     ]
    }
   ],
   "source": [
    "print(ji.groupby(['date'])['citations','readers'].sum())"
   ]
  },
  {
   "cell_type": "code",
   "execution_count": 19,
   "metadata": {
    "collapsed": true
   },
   "outputs": [],
   "source": [
    "journal_inf=pd.DataFrame(columns=['year','cites','readers'])\n",
    "journal_inf.loc[0] = [2013.0,56,181]\n",
    "journal_inf.loc[1] = [2013.25,0,0]\n",
    "journal_inf.loc[2] = [2013.5,81,195]\n",
    "journal_inf.loc[3] = [2013.75,87,161]\n",
    "journal_inf.loc[4] = [2014.0,0,0]\n",
    "journal_inf.loc[5] = [2014.25,0,0]\n",
    "journal_inf.loc[6] = [2014.5,33,80]\n",
    "journal_inf.loc[7] = [2014.75,81,86+86]\n",
    "journal_inf.loc[8] = [2015.0,86,91]\n",
    "journal_inf.loc[9] = [2015.25,113+64,287+219]\n",
    "journal_inf.loc[10] = [2015.5,155,272]\n",
    "journal_inf.loc[11] = [2015.75,111,215]\n",
    "journal_inf.loc[12] = [2016.0,13,39]\n",
    "journal_inf.loc[13] = [2016.25,50,118]\n",
    "journal_inf.loc[14] = [2016.5,38,196]\n",
    "journal_inf.loc[15] = [2016.75,30,155]\n",
    "journal_inf.loc[16] = [2017.0,8,85]\n",
    "journal_inf.loc[17] = [2017.25,6,62]\n",
    "journal_inf.loc[18] = [2017.5,2,130]\n",
    "journal_inf.loc[19] = [2017.75,1,6]"
   ]
  },
  {
   "cell_type": "code",
   "execution_count": 20,
   "metadata": {},
   "outputs": [
    {
     "name": "stderr",
     "output_type": "stream",
     "text": [
      "/home/poulami/anaconda3/lib/python3.6/site-packages/ipykernel_launcher.py:4: SettingWithCopyWarning: \n",
      "A value is trying to be set on a copy of a slice from a DataFrame\n",
      "\n",
      "See the caveats in the documentation: http://pandas.pydata.org/pandas-docs/stable/indexing.html#indexing-view-versus-copy\n",
      "  after removing the cwd from sys.path.\n",
      "/home/poulami/anaconda3/lib/python3.6/site-packages/ipykernel_launcher.py:5: SettingWithCopyWarning: \n",
      "A value is trying to be set on a copy of a slice from a DataFrame\n",
      "\n",
      "See the caveats in the documentation: http://pandas.pydata.org/pandas-docs/stable/indexing.html#indexing-view-versus-copy\n",
      "  \"\"\"\n"
     ]
    },
    {
     "data": {
      "image/png": "[encoded data removed]",
      "text/plain": [
       "<matplotlib.figure.Figure at 0x7fb5ce2fad68>"
      ]
     },
     "metadata": {},
     "output_type": "display_data"
    }
   ],
   "source": [
    "journal_inf['change_of_influence'] = 0\n",
    "journal_inf['modified_time'] =-2.5\n",
    "for i in range(1,journal_inf.shape[0]):\n",
    "    journal_inf['change_of_influence'][i] = journal_inf['cites'][i]-journal_inf['cites'][i-1] \n",
    "    journal_inf['modified_time'][i] =journal_inf['modified_time'][i-1]+0.25\n",
    "plt.plot(journal_inf['modified_time'],journal_inf['cites'],'o')\n",
    "plt.plot(journal_inf['modified_time'],journal_inf['change_of_influence'],'o')\n",
    "plt.show()"
   ]
  },
  {
   "cell_type": "code",
   "execution_count": 21,
   "metadata": {},
   "outputs": [
    {
     "name": "stdout",
     "output_type": "stream",
     "text": [
      "       year  change_of_influence  cites  history  current\n",
      "0   2013.00                    0   56.0     26.0     43.0\n",
      "1   2013.25                  -56    0.0   2039.0     72.0\n",
      "2   2013.50                   81   81.0      8.0     68.0\n",
      "3   2013.75                    6   87.0    105.0   3935.0\n",
      "4   2014.00                  -87    0.0    945.0    330.0\n",
      "5   2014.25                    0    0.0    664.0     66.0\n",
      "6   2014.50                   33   33.0     17.0   2563.0\n",
      "7   2014.75                   48   81.0     32.0     62.0\n",
      "8   2015.00                    5   86.0     90.0    208.0\n",
      "9   2015.25                   91  177.0     65.0    136.0\n",
      "10  2015.50                  -22  155.0   2788.0     53.0\n",
      "11  2015.75                  -44  111.0    572.0     18.0\n",
      "12  2016.00                  -98   13.0    353.0     19.0\n",
      "13  2016.25                   37   50.0    476.0     97.0\n",
      "14  2016.50                  -12   38.0   1178.0     28.0\n",
      "15  2016.75                   -8   30.0    497.0     63.0\n",
      "16  2017.00                  -22    8.0   5790.0    113.0\n",
      "17  2017.25                   -2    6.0   1843.0     20.0\n",
      "18  2017.50                   -4    2.0     97.0     16.0\n",
      "19  2017.75                   -1    1.0     97.0    494.0\n"
     ]
    }
   ],
   "source": [
    "#result = pd.concat([journal_inf['change_of_influence'], ], axis=1, join='inner')\n",
    "current =quart_inf['cites'].iloc[20:40,].reset_index(drop = True)\n",
    "history =quart_inf['cites'].iloc[0:20,].sort_index(ascending=False).reset_index(drop = True)\n",
    "#print(current)\n",
    "result = pd.concat([journal_inf[['year','change_of_influence','cites']],history,current], axis=1)\n",
    "result.columns.values[4] = \"current\"\n",
    "result.columns.values[3] = \"history\"\n",
    "print(result)\n",
    "result.to_csv('/home/poulami/Documents/Github/JournalInfluence/temp.csv', encoding='utf-8', index=False)\n"
   ]
  },
  {
   "cell_type": "code",
   "execution_count": 69,
   "metadata": {},
   "outputs": [
    {
     "name": "stdout",
     "output_type": "stream",
     "text": [
      "   articles  current  history     year  change_of_influence     year  editor\n",
      "0        24    177.0    155.0  2015.50                  -22  2015.50    21.0\n",
      "1        14     86.0    111.0  2015.75                  -44  2015.75    14.0\n",
      "2         5     81.0     13.0  2016.00                  -98  2016.00     9.0\n",
      "3         8     33.0     50.0  2016.25                   37  2016.25    40.0\n",
      "4        18      0.0     38.0  2016.50                  -12  2016.50    31.0\n",
      "5         8      0.0     30.0  2016.75                   -8  2016.75    45.0\n",
      "6         7     87.0      8.0  2017.00                  -22  2017.00     0.0\n",
      "7         9     81.0      6.0  2017.25                   -2  2017.25     3.0\n",
      "8        17      0.0      2.0  2017.50                   -4  2017.50     9.0\n",
      "9         3     56.0      1.0  2017.75                   -1  2017.75    11.0\n"
     ]
    }
   ],
   "source": [
    "pub = pd.read_csv('/home/poulami/Documents/Github/JournalInfluence/dataFiles/publisher.csv') \n",
    "current =journal_inf[['cites','year','change_of_influence']].iloc[10:20,].reset_index(drop = True)\n",
    "history =journal_inf['cites'].iloc[0:10,].sort_index(ascending=False).reset_index(drop = True)\n",
    "result = pd.concat([pub.iloc[10:20,][['articles']].reset_index(drop = True),history,current,get_editorInf(2015,2018).iloc[2:12,].reset_index(drop = True)],axis=1)\n",
    "result.columns.values[2] = \"history\"\n",
    "result.columns.values[6] = \"editor\"\n",
    "result.columns.values[1] = \"current\"\n",
    "print(result)\n",
    "result.to_csv('/home/poulami/Documents/Github/JournalInfluence/dataFiles/new.csv', encoding='utf-8', index=False)\n"
   ]
  },
  {
   "cell_type": "code",
   "execution_count": 64,
   "metadata": {},
   "outputs": [
    {
     "name": "stdout",
     "output_type": "stream",
     "text": [
      "       year  cites\n",
      "0   2015.00   28.0\n",
      "1   2015.25   16.0\n",
      "2   2015.50   21.0\n",
      "3   2015.75   14.0\n",
      "4   2016.00    9.0\n",
      "5   2016.25   40.0\n",
      "6   2016.50   31.0\n",
      "7   2016.75   45.0\n",
      "8   2017.00    0.0\n",
      "9   2017.25    3.0\n",
      "10  2017.50    9.0\n",
      "11  2017.75   11.0\n"
     ]
    }
   ],
   "source": [
    "quart_inf = get_editorInf(2015,2018)\n",
    "print(quart_inf)"
   ]
  },
  {
   "cell_type": "code",
   "execution_count": null,
   "metadata": {
    "collapsed": true
   },
   "outputs": [],
   "source": []
  }
 ],
 "metadata": {
  "kernelspec": {
   "display_name": "Python 3",
   "language": "python",
   "name": "python3"
  },
  "language_info": {
   "codemirror_mode": {
    "name": "ipython",
    "version": 3
   },
   "file_extension": ".py",
   "mimetype": "text/x-python",
   "name": "python",
   "nbconvert_exporter": "python",
   "pygments_lexer": "ipython3",
   "version": "3.6.3"
  }
 },
 "nbformat": 4,
 "nbformat_minor": 2
}
