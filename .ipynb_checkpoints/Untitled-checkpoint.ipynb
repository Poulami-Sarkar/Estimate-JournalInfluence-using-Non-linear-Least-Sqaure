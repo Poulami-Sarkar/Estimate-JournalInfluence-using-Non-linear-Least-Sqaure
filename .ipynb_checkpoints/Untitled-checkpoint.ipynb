{
 "cells": [
  {
   "cell_type": "code",
   "execution_count": 50,
   "metadata": {
    "collapsed": true
   },
   "outputs": [],
   "source": [
    "import pandas as pd\n",
    "import datetime as datetime\n",
    "import matplotlib.pyplot as plt\n",
    "import matplotlib as plot\n",
    "import re"
   ]
  },
  {
   "cell_type": "code",
   "execution_count": 57,
   "metadata": {
    "scrolled": true
   },
   "outputs": [
    {
     "name": "stdout",
     "output_type": "stream",
     "text": [
      "       year   cites\n",
      "0   2004.00    97.0\n",
      "1   2004.25    97.0\n",
      "2   2004.50  1843.0\n",
      "3   2004.75  5790.0\n",
      "4   2005.00   497.0\n",
      "5   2005.25  1178.0\n",
      "6   2005.50   476.0\n",
      "7   2005.75   353.0\n",
      "8   2006.00   572.0\n",
      "9   2006.25  2788.0\n",
      "10  2006.50    65.0\n",
      "11  2006.75    90.0\n",
      "12  2007.00    32.0\n",
      "13  2007.25    17.0\n",
      "14  2007.50   664.0\n",
      "15  2007.75   945.0\n",
      "16  2008.00   105.0\n",
      "17  2008.25     8.0\n",
      "18  2008.50  2039.0\n",
      "19  2008.75    26.0\n",
      "20  2009.00    43.0\n",
      "21  2009.25    72.0\n",
      "22  2009.50    68.0\n",
      "23  2009.75  3935.0\n",
      "24  2010.00   330.0\n",
      "25  2010.25    66.0\n",
      "26  2010.50  2563.0\n",
      "27  2010.75    62.0\n",
      "28  2011.00   208.0\n",
      "29  2011.25   136.0\n",
      "30  2011.50    53.0\n",
      "31  2011.75    18.0\n",
      "32  2012.00    19.0\n",
      "33  2012.25    97.0\n",
      "34  2012.50    28.0\n",
      "35  2012.75    63.0\n",
      "36  2013.00   113.0\n",
      "37  2013.25    20.0\n",
      "38  2013.50    16.0\n",
      "39  2013.75   494.0\n"
     ]
    }
   ],
   "source": [
    "data = pd.read_csv('/home/poulami/Documents/Github/JournalInfluence/test.csv')\n",
    "data = data.fillna(0)\n",
    "data = data.sort_values(by='year')\n",
    "quart_inf = pd.DataFrame(columns=['year','cites'])\n",
    "#df['year'] = datetime.datetime.strptime( df['year'].astype('int').to_string() ,'%Y')\n",
    "df = data.dropna()\n",
    "index=0\n",
    "df = df[df['year'].between(2004, 2013)]\n",
    "for i in range(2004, 2014):\n",
    "    d = df[df['year']==i]\n",
    "    shape =d.shape[0]\n",
    "    quart_inf.loc[index] = [i, d.iloc[0:int(shape/4):,]['citedby'].sum()]\n",
    "    quart_inf.loc[index+1] = [i+0.25, d.iloc[int(shape/4):int(shape*2/4):,]['citedby'].sum()]\n",
    "    quart_inf.loc[index+2] = [i+0.5, d.iloc[int(2*shape/4):int(shape*3/4):,]['citedby'].sum()]\n",
    "    quart_inf.loc[index+3] = [i+0.75, d.iloc[int(3*shape/4):int(shape):,]['citedby'].sum()]\n",
    "    index = index+4\n",
    "print(quart_inf)\n",
    "    #print(int(shape/4))"
   ]
  },
  {
   "cell_type": "code",
   "execution_count": 58,
   "metadata": {},
   "outputs": [
    {
     "data": {
      "image/png": "[encoded data removed]",
      "text/plain": [
       "<matplotlib.figure.Figure at 0x7f3532c27860>"
      ]
     },
     "metadata": {},
     "output_type": "display_data"
    }
   ],
   "source": [
    "plt.plot(quart_inf['year'],quart_inf['cites'],'o')\n",
    "\n",
    "plt.show()"
   ]
  },
  {
   "cell_type": "code",
   "execution_count": 59,
   "metadata": {
    "collapsed": true
   },
   "outputs": [],
   "source": [
    "journal_inf = pd.read_csv('/home/poulami/Documents/Github/JournalInfluence/journalcites.csv')"
   ]
  },
  {
   "cell_type": "code",
   "execution_count": 61,
   "metadata": {},
   "outputs": [
    {
     "name": "stdout",
     "output_type": "stream",
     "text": [
      "         citations  readers\n",
      "date                       \n",
      "01-2016         13       39\n",
      "01-2017          8       85\n",
      "02-2013         56      181\n",
      "03-2015         86       91\n",
      "04-2015        113      287\n",
      "04-2016         50      118\n",
      "04-2017          6       62\n",
      "06-2015         64      219\n",
      "07-2014         33       80\n",
      "07-2016         38      196\n",
      "07-2017          2      130\n",
      "08-2013         81      195\n",
      "09-2015        155      272\n",
      "10-2014         11       86\n",
      "10-2016         30      155\n",
      "10-2017          1        6\n",
      "11-2015        111      215\n",
      "12-2013         87      161\n",
      "12-2014         70       86\n"
     ]
    }
   ],
   "source": [
    "print(journal_inf.groupby(['date'])['citations','readers'].sum())"
   ]
  },
  {
   "cell_type": "code",
   "execution_count": null,
   "metadata": {
    "collapsed": true
   },
   "outputs": [],
   "source": []
  }
 ],
 "metadata": {
  "kernelspec": {
   "display_name": "Python 3",
   "language": "python",
   "name": "python3"
  },
  "language_info": {
   "codemirror_mode": {
    "name": "ipython",
    "version": 3
   },
   "file_extension": ".py",
   "mimetype": "text/x-python",
   "name": "python",
   "nbconvert_exporter": "python",
   "pygments_lexer": "ipython3",
   "version": "3.6.3"
  }
 },
 "nbformat": 4,
 "nbformat_minor": 2
}
