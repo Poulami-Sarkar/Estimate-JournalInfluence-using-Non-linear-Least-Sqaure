{
 "cells": [
  {
   "cell_type": "code",
   "execution_count": 15,
   "metadata": {
    "collapsed": true
   },
   "outputs": [],
   "source": [
    "import pandas as pd\n",
    "import csv\n",
    "import math\n",
    "import matplotlib as plot\n",
    "import matplotlib.pyplot as plt"
   ]
  },
  {
   "cell_type": "code",
   "execution_count": 16,
   "metadata": {},
   "outputs": [
    {
     "name": "stdout",
     "output_type": "stream",
     "text": [
      "    Unnamed: 0  articles                        date  volume\n",
      "0            0         9           ['February 2013']       1\n",
      "1            1         9             ['August 2013']       2\n",
      "2            2         8  ['November–December 2013']       3\n",
      "3            3         8  ['November–December 2013']       4\n",
      "4            4         7               ['July 2014']       5\n",
      "5            5         5            ['October 2014']       6\n",
      "6            6        13  ['November-December 2014']       7\n",
      "7            7        13  ['November-December 2014']       8\n",
      "8            8         6              ['March 2015']       9\n",
      "9            9        28         ['April-June 2015']      10\n",
      "10          11        24          ['September 2015']      12\n",
      "11          12        14           ['November 2015']      13\n",
      "12          13         5            ['January 2016']      14\n",
      "13          14         8              ['April 2016']      15\n",
      "14          15        18               ['July 2016']      16\n",
      "15          16         8            ['October 2016']      17\n",
      "16          17         7            ['January 2017']      18\n",
      "17          18         9              ['April 2017']      19\n",
      "18          19        17               ['July 2017']      20\n",
      "19          20         3            ['October 2017']      21\n"
     ]
    }
   ],
   "source": [
    "df = pd.read_csv(\"dataFiles/publisher.csv\")\n",
    "df = df.iloc[:20,]\n",
    "print(df)"
   ]
  },
  {
   "cell_type": "code",
   "execution_count": 17,
   "metadata": {},
   "outputs": [
    {
     "name": "stderr",
     "output_type": "stream",
     "text": [
      "/home/poulami/anaconda3/lib/python3.6/site-packages/ipykernel_launcher.py:5: SettingWithCopyWarning: \n",
      "A value is trying to be set on a copy of a slice from a DataFrame\n",
      "\n",
      "See the caveats in the documentation: http://pandas.pydata.org/pandas-docs/stable/indexing.html#indexing-view-versus-copy\n",
      "  \"\"\"\n",
      "/home/poulami/anaconda3/lib/python3.6/site-packages/ipykernel_launcher.py:6: SettingWithCopyWarning: \n",
      "A value is trying to be set on a copy of a slice from a DataFrame\n",
      "\n",
      "See the caveats in the documentation: http://pandas.pydata.org/pandas-docs/stable/indexing.html#indexing-view-versus-copy\n",
      "  \n",
      "/home/poulami/anaconda3/lib/python3.6/site-packages/ipykernel_launcher.py:7: SettingWithCopyWarning: \n",
      "A value is trying to be set on a copy of a slice from a DataFrame\n",
      "\n",
      "See the caveats in the documentation: http://pandas.pydata.org/pandas-docs/stable/indexing.html#indexing-view-versus-copy\n",
      "  import sys\n",
      "/home/poulami/anaconda3/lib/python3.6/site-packages/ipykernel_launcher.py:8: SettingWithCopyWarning: \n",
      "A value is trying to be set on a copy of a slice from a DataFrame\n",
      "\n",
      "See the caveats in the documentation: http://pandas.pydata.org/pandas-docs/stable/indexing.html#indexing-view-versus-copy\n",
      "  \n"
     ]
    },
    {
     "name": "stdout",
     "output_type": "stream",
     "text": [
      "    Unnamed: 0  articles                        date  volume     year\n",
      "0            0         9           ['February 2013']       1  2013.00\n",
      "1            1         9             ['August 2013']       2  2013.25\n",
      "2            2         8  ['November–December 2013']       3  2013.50\n",
      "3            3         8  ['November–December 2013']       4  2013.75\n",
      "4            4         7               ['July 2014']       5  2014.00\n",
      "5            5         5            ['October 2014']       6  2014.25\n",
      "6            6        13  ['November-December 2014']       7  2014.50\n",
      "7            7        13  ['November-December 2014']       8  2014.75\n",
      "8            8         6              ['March 2015']       9  2015.00\n",
      "9            9        28         ['April-June 2015']      10  2015.25\n",
      "10          11        24          ['September 2015']      12  2015.50\n",
      "11          12        14           ['November 2015']      13  2015.75\n",
      "12          13         5            ['January 2016']      14  2016.00\n",
      "13          14         8              ['April 2016']      15  2016.25\n",
      "14          15        18               ['July 2016']      16  2016.50\n",
      "15          16         8            ['October 2016']      17  2016.75\n",
      "16          17         7            ['January 2017']      18  2017.00\n",
      "17          18         9              ['April 2017']      19  2017.25\n",
      "18          19        17               ['July 2017']      20  2017.50\n",
      "19          20         3            ['October 2017']      21  2017.75\n"
     ]
    }
   ],
   "source": [
    "threshhold = min(df['articles'])\n",
    "index = 0.00;\n",
    "df['year'] = 0.00\n",
    "for i in range (2013,2018):\n",
    "    df['year'][index] = i\n",
    "    df['year'][index+1]  = i+0.25\n",
    "    df['year'][index+2]  = i+0.5\n",
    "    df['year'][index+3]  = i+0.75\n",
    "    index+=4\n",
    "print(df)\n"
   ]
  },
  {
   "cell_type": "code",
   "execution_count": 18,
   "metadata": {},
   "outputs": [
    {
     "data": {
      "image/png": "[encoded data removed]",
      "text/plain": [
       "<matplotlib.figure.Figure at 0x7fbab45afd68>"
      ]
     },
     "metadata": {},
     "output_type": "display_data"
    }
   ],
   "source": [
    "plt.plot(df['year'],df['articles'],'o')\n",
    "plt.show()"
   ]
  },
  {
   "cell_type": "code",
   "execution_count": 19,
   "metadata": {},
   "outputs": [
    {
     "data": {
      "image/png": "[encoded data removed]",
      "text/plain": [
       "<matplotlib.figure.Figure at 0x7fba88892550>"
      ]
     },
     "metadata": {},
     "output_type": "display_data"
    }
   ],
   "source": [
    "df['articles']=df['articles'] - threshhold\n",
    "plt.plot(df['year'],df['articles'],'o')\n",
    "plt.show()\n",
    "df.to_csv(\"dataFiles/final_publisher.csv\")\n",
    "#plt.savefig('/home/poulami/Documents/Github/JournalInfluence/visualizations/editorinfluence.png')"
   ]
  },
  {
   "cell_type": "code",
   "execution_count": 21,
   "metadata": {},
   "outputs": [
    {
     "name": "stdout",
     "output_type": "stream",
     "text": [
      "1.01496716779114e-05\n",
      "1.2984130026621887e-11\n",
      "    articles   year             X           X^2\n",
      "0          6  13.00  2.260329e-06  5.109089e-12\n",
      "1          6  13.25  1.760346e-06  3.098819e-12\n",
      "2          5  13.50  1.370959e-06  1.879529e-12\n",
      "3          5  13.75  1.067704e-06  1.139992e-12\n",
      "4          4  14.00  8.315287e-07  6.914400e-13\n",
      "5          2  14.25  6.475952e-07  4.193796e-13\n",
      "6         10  14.50  5.043477e-07  2.543666e-13\n",
      "7         10  14.75  3.927864e-07  1.542811e-13\n",
      "8          3  15.00  3.059023e-07  9.357623e-14\n",
      "9         25  15.25  2.382370e-07  5.675685e-14\n",
      "10        21  15.50  1.855391e-07  3.442477e-14\n",
      "11        11  15.75  1.444980e-07  2.087968e-14\n",
      "12         2  16.00  1.125352e-07  1.266417e-14\n",
      "13         5  16.25  8.764248e-08  7.681205e-15\n",
      "14        15  16.50  6.825603e-08  4.658886e-15\n",
      "15         5  16.75  5.315785e-08  2.825757e-15\n",
      "16         4  17.00  4.139938e-08  1.713908e-15\n",
      "17         6  17.25  3.224187e-08  1.039538e-15\n",
      "18        14  17.50  2.510999e-08  6.305117e-16\n",
      "19         0  17.75  1.955568e-08  3.824247e-16\n"
     ]
    },
    {
     "name": "stderr",
     "output_type": "stream",
     "text": [
      "/home/poulami/anaconda3/lib/python3.6/site-packages/ipykernel_launcher.py:2: SettingWithCopyWarning: \n",
      "A value is trying to be set on a copy of a slice from a DataFrame.\n",
      "Try using .loc[row_indexer,col_indexer] = value instead\n",
      "\n",
      "See the caveats in the documentation: http://pandas.pydata.org/pandas-docs/stable/indexing.html#indexing-view-versus-copy\n",
      "  \n",
      "/home/poulami/anaconda3/lib/python3.6/site-packages/ipykernel_launcher.py:3: SettingWithCopyWarning: \n",
      "A value is trying to be set on a copy of a slice from a DataFrame.\n",
      "Try using .loc[row_indexer,col_indexer] = value instead\n",
      "\n",
      "See the caveats in the documentation: http://pandas.pydata.org/pandas-docs/stable/indexing.html#indexing-view-versus-copy\n",
      "  This is separate from the ipykernel package so we can avoid doing imports until\n",
      "/home/poulami/anaconda3/lib/python3.6/site-packages/ipykernel_launcher.py:5: SettingWithCopyWarning: \n",
      "A value is trying to be set on a copy of a slice from a DataFrame.\n",
      "Try using .loc[row_indexer,col_indexer] = value instead\n",
      "\n",
      "See the caveats in the documentation: http://pandas.pydata.org/pandas-docs/stable/indexing.html#indexing-view-versus-copy\n",
      "  \"\"\"\n"
     ]
    }
   ],
   "source": [
    "#data = (df[['articles' , 'year']])\n",
    "#data['year'] = data['year'] -2000\n",
    "data['X'] = data['year'].apply(lambda x: math.exp(-x))\n",
    "X = data['X'].sum()\n",
    "data['X^2'] = data['X'].apply(lambda x: x*x)\n",
    "sigmaX = data['X^2'].sum()\n",
    "print(X)\n",
    "print(sigmaX)\n",
    "print(data)"
   ]
  },
  {
   "cell_type": "code",
   "execution_count": 14,
   "metadata": {},
   "outputs": [
    {
     "ename": "OverflowError",
     "evalue": "math range error",
     "output_type": "error",
     "traceback": [
      "\u001b[0;31m---------------------------------------------------------------------------\u001b[0m",
      "\u001b[0;31mOverflowError\u001b[0m                             Traceback (most recent call last)",
      "\u001b[0;32m<ipython-input-14-e1fa0bde0271>\u001b[0m in \u001b[0;36m<module>\u001b[0;34m()\u001b[0m\n\u001b[0;32m----> 1\u001b[0;31m \u001b[0mprint\u001b[0m\u001b[0;34m(\u001b[0m\u001b[0mmath\u001b[0m\u001b[0;34m.\u001b[0m\u001b[0mexp\u001b[0m\u001b[0;34m(\u001b[0m\u001b[0;36m2013.25\u001b[0m\u001b[0;34m)\u001b[0m\u001b[0;34m)\u001b[0m\u001b[0;34m\u001b[0m\u001b[0m\n\u001b[0m",
      "\u001b[0;31mOverflowError\u001b[0m: math range error"
     ]
    }
   ],
   "source": [
    "print(math.exp(2013.25))"
   ]
  },
  {
   "cell_type": "code",
   "execution_count": null,
   "metadata": {
    "collapsed": true
   },
   "outputs": [],
   "source": []
  }
 ],
 "metadata": {
  "kernelspec": {
   "display_name": "Python 3",
   "language": "python",
   "name": "python3"
  },
  "language_info": {
   "codemirror_mode": {
    "name": "ipython",
    "version": 3
   },
   "file_extension": ".py",
   "mimetype": "text/x-python",
   "name": "python",
   "nbconvert_exporter": "python",
   "pygments_lexer": "ipython3",
   "version": "3.6.3"
  }
 },
 "nbformat": 4,
 "nbformat_minor": 2
}
